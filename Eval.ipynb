tasks={}
def addtask():
    nameget=input("Enter task name:")
    idget=int(input("Enter task id:"))
    statusget=input("Enter task status:")
    tasks[idget]={'name':nameget,'status':statusget}
    print("Rcord inserted")

def update_details(idd,newname):
    if idd in tasks:
        tasks[idd]['name'] = newname


def display_details():
    
            for key, value in tasks.items():
                print(f"{key}: {value}")
 
        
def deletetask(idd):
    if idd in tasks:
        del tasks[idd]
        
def find_details(idd):
    

    if id in tasks:
            for key, value in tasks[id].items():
                print(f"{key}: {value}")
    else:
        print(f"No task found with the name {name}.")
    
def listtask_last_letter(letter):
        found_tasks = [task for task in tasks.values() if task['name'].endswith(letter)]
        if found_tasks:
            for task in found_tasks:
                print(f"ID: {id}, Name: {task['name']}, Status: {task['status']}")
   
    
while True:
    print("\n1. Add task")
    print("2. update")
    print("3. delete")
    print("4. list")
    print("5. search")
    print("6. list last")
    print("7. Exit")
    choice = input("Enter your choice: ")
    if choice == '1':
        addtask()
    elif choice == '2':
        idd = int(input("Enter task's id: "))
        newname=input("Enter new name:")
        update_details(idd,newname)
        
    elif choice == '3':
        idd = int(input("Enter task's id: "))
        deletetask(idd)
        
    elif choice == '4':
        
        display_details()
    
    elif choice == '5':
        idd = int(input("Enter task's id: "))
        find_details(idd)
    
    elif choice=='6':
        let=input("Enter the letter :")
        listtask_last_letter(let)
        
    elif choice=='7':
        break
    
    else:
        print("Invalid choice.")
